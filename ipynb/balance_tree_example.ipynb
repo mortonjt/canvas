{
 "cells": [
  {
   "cell_type": "code",
   "execution_count": 1,
   "metadata": {
    "collapsed": false
   },
   "outputs": [],
   "source": [
    "from __future__ import division\n",
    "import numpy as np\n",
    "import pandas as pd\n",
    "from skbio.stats.composition import ilr\n",
    "from skbio import TreeNode\n",
    "from canvas.phylogeny import phylogenetic_basis\n",
    "from canvas.viz.balances import balanceplot, balancetest, barchart_layout\n",
    "from biom import load_table\n",
    "import scipy\n",
    "from ete3 import Tree, TreeStyle, faces, AttrFace, BarChartFace, CircleFace\n",
    "%matplotlib inline"
   ]
  },
  {
   "cell_type": "markdown",
   "metadata": {},
   "source": [
    "One way to visualize proportions or counts, is to visualize them as logratios of subtrees in a binary tree.\n",
    "\n",
    "For an example, we suppose that we have the following tree."
   ]
  },
  {
   "cell_type": "code",
   "execution_count": 2,
   "metadata": {
    "collapsed": false
   },
   "outputs": [
    {
     "name": "stdout",
     "output_type": "stream",
     "text": [
      "                    /-a\n",
      "          /--------|\n",
      "         |          \\-b\n",
      "---------|\n",
      "         |          /-c\n",
      "          \\--------|\n",
      "                    \\-d\n"
     ]
    }
   ],
   "source": [
    "tree = TreeNode.read([u\"((a,b), (c,d));\"])\n",
    "print(tree.ascii_art())"
   ]
  },
  {
   "cell_type": "code",
   "execution_count": 3,
   "metadata": {
    "collapsed": false
   },
   "outputs": [
    {
     "data": {
      "text/plain": [
       "a    10\n",
       "b    20\n",
       "c    10\n",
       "d    10\n",
       "dtype: int64"
      ]
     },
     "execution_count": 3,
     "metadata": {},
     "output_type": "execute_result"
    }
   ],
   "source": [
    "table = pd.Series([10, 20, 10, 10],\n",
    "                  index=['a','b','c','d'])\n",
    "table"
   ]
  },
  {
   "cell_type": "markdown",
   "metadata": {},
   "source": [
    "Given this data, we can visualize the ratios between the abundances according to this tree.\n",
    "Here, we will be visualizing the log ratios between a/b, c/d and f/g\n"
   ]
  },
  {
   "cell_type": "code",
   "execution_count": 4,
   "metadata": {
    "collapsed": true
   },
   "outputs": [],
   "source": [
    "basis, nodes = phylogenetic_basis(tree)\n",
    "ilr_coords = ilr(table, basis=basis)"
   ]
  },
  {
   "cell_type": "markdown",
   "metadata": {},
   "source": [
    "Now, we can visualize these log-ratios as balances on the tree.  Since the c, d have the same abundances, their ratio is 1, and their log-ratio is zero. So that balance on the c,d subtree is zero.\n",
    "\n",
    "On the other hand, the abundance of b is double the abundance of a.  So the ratio of a/b is 1/2, making the log ratio -log(2).  So the balance on the a,b subtree is zero. \n",
    "\n",
    "The logratios of subtrees can be visualized as balances on the tree as shown below."
   ]
  },
  {
   "cell_type": "code",
   "execution_count": 5,
   "metadata": {
    "collapsed": false
   },
   "outputs": [
    {
     "data": {
      "image/png": "[encoded data removed]",
      "text/plain": [
       "<IPython.core.display.Image object>"
      ]
     },
     "execution_count": 5,
     "metadata": {},
     "output_type": "execute_result"
    }
   ],
   "source": [
    "tr, ts = balanceplot(ilr_coords, tree, mode='r', layout=barchart_layout) \n",
    "tr.render(file_name='%%inline', tree_style=ts)"
   ]
  },
  {
   "cell_type": "markdown",
   "metadata": {},
   "source": [
    "Statistical tests can be directly performed on the balances.  Consider the following table, sample metadata and tree."
   ]
  },
  {
   "cell_type": "code",
   "execution_count": 6,
   "metadata": {
    "collapsed": false
   },
   "outputs": [
    {
     "data": {
      "text/html": [
       "<div>\n",
       "<table border=\"1\" class=\"dataframe\">\n",
       "  <thead>\n",
       "    <tr style=\"text-align: right;\">\n",
       "      <th></th>\n",
       "      <th>a</th>\n",
       "      <th>b</th>\n",
       "      <th>d</th>\n",
       "      <th>f</th>\n",
       "      <th>h</th>\n",
       "      <th>j</th>\n",
       "      <th>l</th>\n",
       "    </tr>\n",
       "  </thead>\n",
       "  <tbody>\n",
       "    <tr>\n",
       "      <th>s1</th>\n",
       "      <td>10</td>\n",
       "      <td>11</td>\n",
       "      <td>10</td>\n",
       "      <td>10</td>\n",
       "      <td>10</td>\n",
       "      <td>10</td>\n",
       "      <td>10</td>\n",
       "    </tr>\n",
       "    <tr>\n",
       "      <th>s2</th>\n",
       "      <td>10</td>\n",
       "      <td>12</td>\n",
       "      <td>11</td>\n",
       "      <td>11</td>\n",
       "      <td>11</td>\n",
       "      <td>11</td>\n",
       "      <td>13</td>\n",
       "    </tr>\n",
       "    <tr>\n",
       "      <th>s3</th>\n",
       "      <td>10</td>\n",
       "      <td>11</td>\n",
       "      <td>10</td>\n",
       "      <td>10</td>\n",
       "      <td>10</td>\n",
       "      <td>10</td>\n",
       "      <td>10</td>\n",
       "    </tr>\n",
       "    <tr>\n",
       "      <th>s4</th>\n",
       "      <td>20</td>\n",
       "      <td>21</td>\n",
       "      <td>10</td>\n",
       "      <td>10</td>\n",
       "      <td>10</td>\n",
       "      <td>10</td>\n",
       "      <td>10</td>\n",
       "    </tr>\n",
       "    <tr>\n",
       "      <th>s5</th>\n",
       "      <td>20</td>\n",
       "      <td>21</td>\n",
       "      <td>11</td>\n",
       "      <td>10</td>\n",
       "      <td>10</td>\n",
       "      <td>10</td>\n",
       "      <td>10</td>\n",
       "    </tr>\n",
       "    <tr>\n",
       "      <th>s6</th>\n",
       "      <td>20</td>\n",
       "      <td>21</td>\n",
       "      <td>10</td>\n",
       "      <td>9</td>\n",
       "      <td>10</td>\n",
       "      <td>11</td>\n",
       "      <td>12</td>\n",
       "    </tr>\n",
       "  </tbody>\n",
       "</table>\n",
       "</div>"
      ],
      "text/plain": [
       "     a   b   d   f   h   j   l\n",
       "s1  10  11  10  10  10  10  10\n",
       "s2  10  12  11  11  11  11  13\n",
       "s3  10  11  10  10  10  10  10\n",
       "s4  20  21  10  10  10  10  10\n",
       "s5  20  21  11  10  10  10  10\n",
       "s6  20  21  10   9  10  11  12"
      ]
     },
     "execution_count": 6,
     "metadata": {},
     "output_type": "execute_result"
    }
   ],
   "source": [
    "table = pd.DataFrame([\n",
    "            [10, 10, 10, 20, 20, 20],\n",
    "            [11, 12, 11, 21, 21, 21],\n",
    "            [10, 11, 10, 10, 11, 10],\n",
    "            [10, 11, 10, 10, 10, 9],\n",
    "            [10, 11, 10, 10, 10, 10],\n",
    "            [10, 11, 10, 10, 10, 11],\n",
    "            [10, 13, 10, 10, 10, 12]],\n",
    "            columns=['s1', 's2', 's3', 's4', 's5', 's6'],\n",
    "            index=['a', 'b', 'd', 'f', 'h', 'j', 'l']).T\n",
    "cats = pd.Series(['Control', 'Control', 'Control', \n",
    "                  'Treatment', 'Treatment', 'Treatment'],\n",
    "                index=['s1', 's2', 's3', 's4', 's5', 's6'])\n",
    "tree = TreeNode.read([u\"((((a,b), (f, d)), (h, j)), l);\"])\n",
    "table"
   ]
  },
  {
   "cell_type": "code",
   "execution_count": 7,
   "metadata": {
    "collapsed": false
   },
   "outputs": [
    {
     "name": "stdout",
     "output_type": "stream",
     "text": [
      "                                        /-a\n",
      "                              /--------|\n",
      "                             |          \\-b\n",
      "                    /--------|\n",
      "                   |         |          /-f\n",
      "                   |          \\--------|\n",
      "          /--------|                    \\-d\n",
      "         |         |\n",
      "         |         |          /-h\n",
      "---------|          \\--------|\n",
      "         |                    \\-j\n",
      "         |\n",
      "          \\-l\n"
     ]
    }
   ],
   "source": [
    "print(tree.ascii_art())"
   ]
  },
  {
   "cell_type": "markdown",
   "metadata": {},
   "source": [
    "Where s1, s2, s3 all belong to the same control group, and s4, s5, s6 belong to the same treatment group.\n",
    "The balances corresponding to a, b are the only ones that should be expected to change.  So, we'll run a one-way anova on each of the balances."
   ]
  },
  {
   "cell_type": "code",
   "execution_count": 8,
   "metadata": {
    "collapsed": false
   },
   "outputs": [
    {
     "data": {
      "image/png": "[encoded data removed]",
      "text/plain": [
       "<IPython.core.display.Image object>"
      ]
     },
     "execution_count": 8,
     "metadata": {},
     "output_type": "execute_result"
    }
   ],
   "source": [
    "tr, ts = balancetest(table, cats, tree, mode='r') \n",
    "tr.render(file_name='%%inline', tree_style=ts) "
   ]
  }
 ],
 "metadata": {
  "kernelspec": {
   "display_name": "Python 3",
   "language": "python",
   "name": "python3"
  },
  "language_info": {
   "codemirror_mode": {
    "name": "ipython",
    "version": 3
   },
   "file_extension": ".py",
   "mimetype": "text/x-python",
   "name": "python",
   "nbconvert_exporter": "python",
   "pygments_lexer": "ipython3",
   "version": "3.5.1"
  }
 },
 "nbformat": 4,
 "nbformat_minor": 0
}
